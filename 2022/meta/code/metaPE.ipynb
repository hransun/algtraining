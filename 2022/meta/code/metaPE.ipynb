{
 "cells": [
  {
   "cell_type": "code",
   "execution_count": null,
   "metadata": {},
   "outputs": [],
   "source": [
    "#calculator\n",
    "def calculator(s):\n",
    "    it = 0\n",
    "    stack = []\n",
    "    num = 0\n",
    "    op = \"+\"\n",
    "    "
   ]
  },
  {
   "cell_type": "code",
   "execution_count": null,
   "metadata": {},
   "outputs": [],
   "source": [
    "# LRU CACHE\n",
    "class Node():\n",
    "    def __init__(self, key = None , val = None,prev = None,nxt = None):\n",
    "        self.key = key\n",
    "        self.val = val\n",
    "        self.prev = prev\n",
    "        self.nxt = nxt\n",
    "        \n",
    "class LRUCache():\n",
    "\n",
    "    def __init__(self, capacity: int):\n",
    "        self.cache = {}\n",
    "        self.capacity = capacity\n",
    "        \n",
    "        self.left = Node()\n",
    "        self.right = Node()\n",
    "        \n",
    "        self.left.nxt = self.right\n",
    "        self.right.prev = self.left\n",
    "    \n",
    "    \n",
    "    \n",
    "    def add(self,node):\n",
    "        nxt = self.right\n",
    "        prev = self.right.prev\n",
    "        \n",
    "        node.nxt = nxt\n",
    "        node.prev = prev\n",
    "        nxt.prev = node\n",
    "        prev.nxt = node\n",
    "    \n",
    "    def remove(self, node):\n",
    "        prev = node.prev\n",
    "        nxt = node.nxt\n",
    "        prev.nxt, nxt.prev = nxt, prev\n",
    "        \n",
    "        \n",
    "    def get(self,key):\n",
    "        \n",
    "        if key in self.cache:\n",
    "            node = self.cache[key]\n",
    "            self.remove(node)\n",
    "            self.add(node)\n",
    "            return node.val\n",
    "        else:\n",
    "            return -1\n",
    "        \n",
    "        \n",
    "    def put(self, key,val):\n",
    "        \n",
    "        \n",
    "        if key in self.cache:\n",
    "            self.remove(self.cache[key])\n",
    "            self.cache[key] = Node(key, val)\n",
    "            self.add(self.cache[key])\n",
    "        else:\n",
    "            self.cache[key] = Node(key, val)\n",
    "            self.add(self.cache[key])\n",
    "        \n",
    "            if len(self.cache) > self.capacity:\n",
    "                remvnode = self.left.nxt\n",
    "\n",
    "                self.remove(remvnode)\n",
    "                del self.cache[remvnode.key]"
   ]
  },
  {
   "cell_type": "code",
   "execution_count": 310,
   "metadata": {},
   "outputs": [
    {
     "data": {
      "text/plain": [
       "([1, 5], [4, 2])"
      ]
     },
     "execution_count": 310,
     "metadata": {},
     "output_type": "execute_result"
    }
   ],
   "source": [
    "#1-split_array\n",
    "\n",
    "\n",
    "def first(nums):\n",
    "    summ = sum(nums)\n",
    "    leftsum = 0\n",
    "    for i in range(len(nums)):\n",
    "        leftsum += nums[i]\n",
    "        summ = summ - nums[i]\n",
    "        if leftsum == summ:\n",
    "            return nums[:i+1], nums[i+1:]\n",
    "    return -1\n",
    "\n",
    "def second(nums):\n",
    "    leftsum = nums[0]\n",
    "    rightsum = nums[-1]\n",
    "    left = 0\n",
    "    right = len(nums) - 1\n",
    "    while left < right and right-left > 1:\n",
    "        if leftsum < rightsum:\n",
    "            left += 1\n",
    "            leftsum += nums[left]\n",
    "        elif rightsum < leftsum:\n",
    "            right -= 1\n",
    "            rightsum += nums[right]\n",
    "        else:\n",
    "            right -= 1\n",
    "            rightsum += nums[right]\n",
    "    return nums[:left+1], nums[left+1:] if leftsum == rightsum else -1\n",
    "\n",
    "second([1,5,4,2])\n"
   ]
  },
  {
   "cell_type": "code",
   "execution_count": 317,
   "metadata": {},
   "outputs": [
    {
     "data": {
      "text/plain": [
       "6"
      ]
     },
     "execution_count": 317,
     "metadata": {},
     "output_type": "execute_result"
    }
   ],
   "source": [
    "#2-best_time_buy_stock\n",
    "\n",
    "def stock(prices):\n",
    "    maxp = 0\n",
    "    minn = float('inf')\n",
    "\n",
    "    for i in prices:\n",
    "        if i < minn:\n",
    "            minn = i\n",
    "            continue\n",
    "        else:\n",
    "            maxp = max(maxp, i- minn)\n",
    "    return maxp\n",
    "    \n",
    "\n",
    "stock([7,1,4,3,7])\n"
   ]
  },
  {
   "cell_type": "code",
   "execution_count": 327,
   "metadata": {},
   "outputs": [
    {
     "data": {
      "text/plain": [
       "True"
      ]
     },
     "execution_count": 327,
     "metadata": {},
     "output_type": "execute_result"
    }
   ],
   "source": [
    "#3-valid Palindrome\n",
    "def valid(s):\n",
    "\n",
    "    left = 0\n",
    "    right = len(s) - 1\n",
    "    while left < right:\n",
    "        while not s[left].isalpha() and left < right:\n",
    "            left += 1\n",
    "        while not s[right].isalpha() and left < right:\n",
    "            right -= 1\n",
    "        if s[left].lower() != s[right].lower():\n",
    "            return False\n",
    "        \n",
    "        left += 1\n",
    "        right -= 1\n",
    "    return True\n",
    "\n",
    "valid(\"a-----f-a\")"
   ]
  },
  {
   "cell_type": "code",
   "execution_count": null,
   "metadata": {},
   "outputs": [],
   "source": [
    "#4-validate_binray_search_tree\n",
    "\n",
    "def isValidBST(self, root: Optional[TreeNode]) -> bool:\n",
    "    def validate(node, low = -math.inf, high = math.inf):\n",
    "        if not node:\n",
    "            return True\n",
    "        \n",
    "        if node.val >= high or node.val <= low:\n",
    "            return False\n",
    "        else:\n",
    "            return (validate(node.left,low,node.val) and validate(node.right,node.val,high))\n",
    "    \n",
    "    return validate(root)"
   ]
  },
  {
   "cell_type": "code",
   "execution_count": 381,
   "metadata": {},
   "outputs": [
    {
     "name": "stdout",
     "output_type": "stream",
     "text": [
      "[['B', 'B', 'B', 'B', 'B', 'B'], ['B', 'B', 'B', 'B', 'B', 'B'], ['B', 'B', 'B', 'B', 'B', 'B'], ['B', 'B', 'B', 'B', 'B', 'B'], ['B', 'B', 'B', '1', '1', '1'], ['B', 'B', 'B', '1', 'M', 'E']]\n"
     ]
    }
   ],
   "source": [
    "from collections import deque\n",
    "import random\n",
    "def createboard(r,c,k):\n",
    "    board = []\n",
    "    for i in range(r):\n",
    "        board.append([\"E\"] * c)\n",
    "    a = random.sample(range(r*c),k)\n",
    "\n",
    "    for i in a:\n",
    "        board[i//c][i%c] = \"M\"\n",
    "    return board\n",
    "\n",
    "def updateBoard(board, click):\n",
    "    r,c = len(board), len(board[0])\n",
    "    def get_neighbors(index):\n",
    "        i, j = index\n",
    "        return [(i-1,j-1), (i-1,j), (i-1,j+1), (i,j+1), (i+1,j+1), (i+1,j), (i+1,j-1), (i,j-1)]\n",
    "\n",
    "    def is_valid(index):\n",
    "        i, j = index\n",
    "        if 0 <= i < r and 0 <= j < c:\n",
    "            return True\n",
    "        return False\n",
    "\n",
    "    def bfs(click):\n",
    "        i,j = click\n",
    "        if board[i][j] == \"M\":\n",
    "            board[i][j] = \"X\"\n",
    "            return board\n",
    "        visited = set()\n",
    "        queue = deque()\n",
    "\n",
    "        visited.add((i,j))\n",
    "        queue.append((i,j))\n",
    "        while queue:\n",
    "            i,j = queue.popleft()\n",
    "            mines = 0\n",
    "            empty = set()\n",
    "            for ni, nj in get_neighbors((i, j)):\n",
    "                if is_valid((ni,nj)) and board[ni][nj] == \"M\":\n",
    "                    mines += 1\n",
    "                elif is_valid((ni,nj)) and board[ni][nj] == \"E\":\n",
    "                    empty.add((ni, nj))\n",
    "            if mines == 0:\n",
    "                \n",
    "                board[i][j] = \"B\"\n",
    "                for ei,ej in empty:\n",
    "                    if (ei,ej) not in visited:\n",
    "                        queue.append((ei,ej))\n",
    "                        visited.add((ei,ej))\n",
    "            else:\n",
    "                board[i][j] = str(mines)\n",
    "        return board\n",
    "    return bfs(click)\n",
    "\n",
    "board = createboard(6, 6, 1)\n",
    "print(updateBoard(board, (1,1)))\n"
   ]
  },
  {
   "cell_type": "code",
   "execution_count": 386,
   "metadata": {},
   "outputs": [
    {
     "data": {
      "text/plain": [
       "['a-bC-dEf-ghIj']"
      ]
     },
     "execution_count": 386,
     "metadata": {},
     "output_type": "execute_result"
    }
   ],
   "source": [
    "\"a-bC-dEf-ghIj\".split()"
   ]
  },
  {
   "cell_type": "code",
   "execution_count": null,
   "metadata": {},
   "outputs": [],
   "source": [
    "#6-reverse_only_letters\n",
    "import re\n",
    "\n",
    "def reverseOnlyLetters(self, s: str) -> str:\n",
    "    left = 0\n",
    "    right = len(s) - 1\n",
    "    \n",
    "    s = list(s)\n",
    "    while(left <= right):\n",
    "        if not s[left].isalpha():\n",
    "            left += 1\n",
    "            continue\n",
    "        if not s[right].isalpha():\n",
    "            right -= 1\n",
    "            continue\n",
    "            \n",
    "        s[left],s[right] = s[right], s[left]\n",
    "        left += 1\n",
    "        right -= 1\n",
    "    return \"\".join(s)\n"
   ]
  },
  {
   "cell_type": "code",
   "execution_count": 389,
   "metadata": {},
   "outputs": [
    {
     "name": "stdout",
     "output_type": "stream",
     "text": [
      "[(-0.2645751311064585, 'Hadrosaurus'), (1.913333333333333, 'Velociraptor'), (1.918448447168817, 'Struthiomimus')]\n"
     ]
    }
   ],
   "source": [
    "#7-dinasour\n",
    "def dinasour1():\n",
    "    \n",
    "    f = open(\"dataset2.csv\")\n",
    "    \n",
    "    dinasour = {}\n",
    "    for i in f.readlines():\n",
    "        name, length, stance = i.split(',')\n",
    "\n",
    "        if stance[-1] == \"\\n\":\n",
    "            stance = stance[:-1]\n",
    "\n",
    "        if stance == 'bipedal':\n",
    "            \n",
    "            dinasour[name] = float(length)\n",
    "    \n",
    "    f = open(\"dataset1.csv\")\n",
    "    h = []\n",
    "    import math\n",
    "    for x in f.readlines()[1:]:\n",
    "\n",
    "        name,leg_length, t = x.split(',')\n",
    "        if name in dinasour:\n",
    "            speed = ((dinasour[name]/float(leg_length)) - 1) * math.sqrt(float(leg_length) * 9.8)\n",
    "            h.append((speed,name))\n",
    "    \n",
    "    h.sort(key = lambda x: x[0])\n",
    "    print(h[-3:])\n",
    "\n",
    "    \n",
    "    \n",
    "dinasour1()\n",
    "\n"
   ]
  },
  {
   "cell_type": "code",
   "execution_count": 221,
   "metadata": {},
   "outputs": [
    {
     "name": "stdout",
     "output_type": "stream",
     "text": [
      "Tyrannosaurus Rex,4.76,bipedal\n",
      "\n"
     ]
    }
   ],
   "source": [
    "#8-fortune\n",
    "import os\n",
    "\n",
    "f = os.popen(\"wc -l dataset2.csv\").read().split()[0]\n",
    "line = random.randint(0,int(f) - 1)\n",
    "fortune = os.popen(f\"sed -n '{line}p' dataset2.csv\").read()\n",
    "print(fortune)\n",
    "\n"
   ]
  },
  {
   "cell_type": "code",
   "execution_count": 181,
   "metadata": {},
   "outputs": [
    {
     "data": {
      "text/plain": [
       "[(4, 'b'), (10, 'a'), (7, 'c')]"
      ]
     },
     "execution_count": 181,
     "metadata": {},
     "output_type": "execute_result"
    }
   ],
   "source": [
    "#9-interval_list_intersection\n",
    "ans = []\n",
    "i = j = 0\n",
    "while i < len(a) and j < len(b):\n",
    "    low = max(a[i][0],b[j][0])\n",
    "    high = min(a[i][1], b[j][1])\n",
    "\n",
    "    if low <= high:\n",
    "        ans.append([low,high])\n",
    "\n",
    "    if a[i][1] < b[j][1]:\n",
    "        i += 1\n",
    "    else:\n",
    "        j += 1\n",
    "return ans"
   ]
  },
  {
   "cell_type": "code",
   "execution_count": 223,
   "metadata": {},
   "outputs": [
    {
     "ename": "NameError",
     "evalue": "name 'List' is not defined",
     "output_type": "error",
     "traceback": [
      "\u001b[0;31m---------------------------------------------------------------------------\u001b[0m",
      "\u001b[0;31mNameError\u001b[0m                                 Traceback (most recent call last)",
      "\u001b[0;32m/var/folders/l6/7dp5n9_s339_2s9r1586mjzm0000gn/T/ipykernel_66950/216691948.py\u001b[0m in \u001b[0;36m<module>\u001b[0;34m\u001b[0m\n\u001b[1;32m      1\u001b[0m \u001b[0;31m# 10-battleship\u001b[0m\u001b[0;34m\u001b[0m\u001b[0;34m\u001b[0m\u001b[0m\n\u001b[0;32m----> 2\u001b[0;31m \u001b[0;32mdef\u001b[0m \u001b[0mcountBattleships\u001b[0m\u001b[0;34m(\u001b[0m\u001b[0mself\u001b[0m\u001b[0;34m,\u001b[0m \u001b[0mboard\u001b[0m\u001b[0;34m:\u001b[0m \u001b[0mList\u001b[0m\u001b[0;34m[\u001b[0m\u001b[0mList\u001b[0m\u001b[0;34m[\u001b[0m\u001b[0mstr\u001b[0m\u001b[0;34m]\u001b[0m\u001b[0;34m]\u001b[0m\u001b[0;34m)\u001b[0m \u001b[0;34m->\u001b[0m \u001b[0mint\u001b[0m\u001b[0;34m:\u001b[0m\u001b[0;34m\u001b[0m\u001b[0;34m\u001b[0m\u001b[0m\n\u001b[0m\u001b[1;32m      3\u001b[0m         \u001b[0mr\u001b[0m \u001b[0;34m=\u001b[0m \u001b[0mlen\u001b[0m\u001b[0;34m(\u001b[0m\u001b[0mboard\u001b[0m\u001b[0;34m)\u001b[0m\u001b[0;34m\u001b[0m\u001b[0;34m\u001b[0m\u001b[0m\n\u001b[1;32m      4\u001b[0m         \u001b[0mc\u001b[0m \u001b[0;34m=\u001b[0m \u001b[0mlen\u001b[0m\u001b[0;34m(\u001b[0m\u001b[0mboard\u001b[0m\u001b[0;34m[\u001b[0m\u001b[0;36m0\u001b[0m\u001b[0;34m]\u001b[0m\u001b[0;34m)\u001b[0m\u001b[0;34m\u001b[0m\u001b[0;34m\u001b[0m\u001b[0m\n\u001b[1;32m      5\u001b[0m         \u001b[0mvisited\u001b[0m \u001b[0;34m=\u001b[0m \u001b[0mset\u001b[0m\u001b[0;34m(\u001b[0m\u001b[0;34m)\u001b[0m\u001b[0;34m\u001b[0m\u001b[0;34m\u001b[0m\u001b[0m\n",
      "\u001b[0;31mNameError\u001b[0m: name 'List' is not defined"
     ]
    }
   ],
   "source": [
    "# 10-battleship\n",
    "def countBattleships(self, board: List[List[str]]) -> int:\n",
    "        r = len(board)\n",
    "        c = len(board[0])\n",
    "        visited = set()\n",
    "        def get_neighbor(i,j):\n",
    "            return [[i-1,j],[i+1,j],[i,j-1],[i,j+1]]\n",
    "        def inbound(i,j):\n",
    "            return (i in range(r)) and (j in range(c))\n",
    "            \n",
    "        def bfs(i,j):\n",
    "            queue = deque()\n",
    "            queue.append((i,j))\n",
    "            visited.add((i,j))\n",
    "            while queue:\n",
    "                x,y = queue.popleft()\n",
    "                for nr, nc in get_neighbor(x,y):\n",
    "                    if inbound(nr,nc):\n",
    "                        if board[nr][nc] == \"X\" and (nr,nc) not in visited:\n",
    "                            queue.append((nr,nc))\n",
    "                            visited.add((nr,nc))\n",
    "                    \n",
    "            \n",
    "        count = 0\n",
    "        for row in range(r):\n",
    "            for col in range(c):\n",
    "                if board[row][col] == \"X\":\n",
    "                    if (row,col) not in visited:\n",
    "                        count += 1\n",
    "                        bfs(row,col)\n",
    "        return count"
   ]
  },
  {
   "cell_type": "code",
   "execution_count": 224,
   "metadata": {},
   "outputs": [],
   "source": [
    "#11-Friends_of_appropriate_Ages\n",
    "def numFriendRequests(ages):\n",
    "    ages_count = [0] * 121\n",
    "    for age in ages:\n",
    "        ages_count[age] += 1\n",
    "    result = 0\n",
    "    print(ages_count)\n",
    "    for age in ages:\n",
    "        lower_bound = 0.5 * age + 7\n",
    "        upper_bound = age + 1 if age >= 100 else min(age + 1, 101)\n",
    "        result += sum(ages_count[int(lower_bound+1): upper_bound])\n",
    "        print(int(lower_bound+1), upper_bound)\n",
    "        if ages_count[age] > 0 and int(lower_bound+1) <= age < upper_bound:\n",
    "            result -= 1\n",
    "    return result"
   ]
  },
  {
   "cell_type": "code",
   "execution_count": null,
   "metadata": {},
   "outputs": [],
   "source": [
    "#12-product_prime\n",
    "\n",
    "def productPrime(nums):\n",
    "    if not nums:\n",
    "        return []\n",
    "    res = productPrime(nums[1:])\n",
    "    return [nums[0]] + res + [i*nums[0] for i in res]"
   ]
  },
  {
   "cell_type": "code",
   "execution_count": null,
   "metadata": {},
   "outputs": [],
   "source": [
    "#13-edit_distance\n",
    "def one_edit_distance(s1,s2):\n",
    "    if len(s1) < len(s2):\n",
    "        one_edit_distance(s2,s1)\n",
    "    \n",
    "    if len(s2) - len(s1) > 1:\n",
    "        return False\n",
    "    \n",
    "    for i in range(len(s1)):\n",
    "        if s1[i] != s2[i]:\n",
    "            if len(s1) == len(s2):\n",
    "                return s1[i+1:] == s2[i+1:]\n",
    "            else:\n",
    "                return s1[i:] == s2[i+1:]\n",
    "    return len(s1) + 1 == len(s2)"
   ]
  },
  {
   "cell_type": "code",
   "execution_count": 268,
   "metadata": {},
   "outputs": [
    {
     "name": "stdout",
     "output_type": "stream",
     "text": [
      "[['A', 'C', 'F'], ['A', 'C', 'E'], ['A', 'B', 'D']]\n"
     ]
    }
   ],
   "source": [
    "#new_node_of_tree\n",
    "class node():\n",
    "    def __init__(self, s):\n",
    "        self.s = s\n",
    "        self.child1 = None\n",
    "        self.child2 = None\n",
    "input = [\"A->B\",\"C->E\",\"C->F\",\"B->D\",\"A->C\"]\n",
    "\n",
    "def solution(input):\n",
    "    \n",
    "    def buildtree():\n",
    "        \n",
    "        cache = {}\n",
    "        for i in input:\n",
    "            p = i[0]\n",
    "            c = i[3]\n",
    "            if p not in cache:\n",
    "                parent = node(p)\n",
    "                cache[p] = parent \n",
    "            if c not in cache:\n",
    "                child = node(c)\n",
    "                cache[c] = child\n",
    "\n",
    "            if cache[p].child1 == None:\n",
    "                cache[p].child1 = cache[c]\n",
    "            else:\n",
    "                cache[p].child2 = cache[c]\n",
    "        return cache[input[0][0]]\n",
    "    \n",
    "\n",
    "    \n",
    "\n",
    "    root = buildtree()\n",
    "    \n",
    "    res = []\n",
    "    def findpath(node,path):\n",
    "        if node.child1 == None and node.child2 == None:\n",
    "            path.append(node.s)\n",
    "            res.append(path.copy())\n",
    "            path.pop()\n",
    "            return\n",
    "        \n",
    "        else:\n",
    "            path.append(node.s)\n",
    "            if node.child2 != None:\n",
    "                findpath(node.child2,path)\n",
    "                \n",
    "            if node.child1 != None:\n",
    "                findpath(node.child1, path)\n",
    "                \n",
    "            \n",
    "            path.pop()\n",
    "    \n",
    "    findpath(root,[])\n",
    "    return res\n",
    "\n",
    "\n",
    "\n",
    "print(solution(input))"
   ]
  },
  {
   "cell_type": "code",
   "execution_count": null,
   "metadata": {},
   "outputs": [],
   "source": [
    "#new_data_center\n",
    "US01 COMPUTELOW 800\n",
    "US01 COMPUTEHIGH 500\n",
    "US01 BIGMEMORY 500\n",
    "\n",
    "\n",
    "US02 COMPUTELOW 200\n",
    "\n",
    "EU01 COMPUTEHIGH 500\n",
    "\n",
    "EU02 COMPUTEHIGH 500\n",
    "EU02 BIGMEMORY 600\n",
    "EUO2 GPU 800\n",
    "\n",
    "TEST COMPUTELOW 100\n",
    "STAGING COMPUTELOW 400\n",
    "WWW COMPUTEHIGH 1000\n",
    "API BIGMEMORY 100\n",
    "\n",
    "from collections import defaultdict\n",
    "def solutions(goesdown):\n",
    "    summ = {}\n",
    "    with open('service.csv') as file:\n",
    "        for i in file.readlines()[1:]:\n",
    "            x = i.split(',')\n",
    "            service, host_type, count = x[0],x[1],int(x[2])\n",
    "            summ[host_type] = count\n",
    "    \n",
    "\n",
    "\n",
    "    datacenter = defaultdict(lambda : 0)\n",
    "    \n",
    "    with open(\"datacenter.csv\") as file:\n",
    "        for i in file.readlines()[1:]:\n",
    "            \n",
    "            x = i.split(',')\n",
    "            name, host_type, count = x[0],x[1],int(x[2])\n",
    "            if goesdown == name:\n",
    "                continue\n",
    "            datacenter[host_type] += count\n",
    "    \n",
    "    \n",
    "    \n",
    "\n",
    "\n",
    "\n",
    "\n"
   ]
  },
  {
   "cell_type": "code",
   "execution_count": 262,
   "metadata": {},
   "outputs": [
    {
     "ename": "NameError",
     "evalue": "name 'List' is not defined",
     "output_type": "error",
     "traceback": [
      "\u001b[0;31m---------------------------------------------------------------------------\u001b[0m",
      "\u001b[0;31mNameError\u001b[0m                                 Traceback (most recent call last)",
      "\u001b[0;32m/var/folders/l6/7dp5n9_s339_2s9r1586mjzm0000gn/T/ipykernel_66950/437435456.py\u001b[0m in \u001b[0;36m<module>\u001b[0;34m\u001b[0m\n\u001b[1;32m      1\u001b[0m \u001b[0;31m#14 find-all-anagram\u001b[0m\u001b[0;34m\u001b[0m\u001b[0;34m\u001b[0m\u001b[0m\n\u001b[0;32m----> 2\u001b[0;31m \u001b[0;32mdef\u001b[0m \u001b[0mfindAnagrams\u001b[0m\u001b[0;34m(\u001b[0m\u001b[0mself\u001b[0m\u001b[0;34m,\u001b[0m \u001b[0ms\u001b[0m\u001b[0;34m:\u001b[0m \u001b[0mstr\u001b[0m\u001b[0;34m,\u001b[0m \u001b[0mp\u001b[0m\u001b[0;34m:\u001b[0m \u001b[0mstr\u001b[0m\u001b[0;34m)\u001b[0m \u001b[0;34m->\u001b[0m \u001b[0mList\u001b[0m\u001b[0;34m[\u001b[0m\u001b[0mint\u001b[0m\u001b[0;34m]\u001b[0m\u001b[0;34m:\u001b[0m\u001b[0;34m\u001b[0m\u001b[0;34m\u001b[0m\u001b[0m\n\u001b[0m\u001b[1;32m      3\u001b[0m     \u001b[0mns\u001b[0m\u001b[0;34m,\u001b[0m\u001b[0mnp\u001b[0m \u001b[0;34m=\u001b[0m \u001b[0mlen\u001b[0m\u001b[0;34m(\u001b[0m\u001b[0ms\u001b[0m\u001b[0;34m)\u001b[0m\u001b[0;34m,\u001b[0m \u001b[0mlen\u001b[0m\u001b[0;34m(\u001b[0m\u001b[0mp\u001b[0m\u001b[0;34m)\u001b[0m\u001b[0;34m\u001b[0m\u001b[0;34m\u001b[0m\u001b[0m\n\u001b[1;32m      4\u001b[0m     \u001b[0;32mif\u001b[0m \u001b[0mns\u001b[0m \u001b[0;34m<\u001b[0m \u001b[0mnp\u001b[0m\u001b[0;34m:\u001b[0m\u001b[0;34m\u001b[0m\u001b[0;34m\u001b[0m\u001b[0m\n\u001b[1;32m      5\u001b[0m         \u001b[0;32mreturn\u001b[0m \u001b[0;34m[\u001b[0m\u001b[0;34m]\u001b[0m\u001b[0;34m\u001b[0m\u001b[0;34m\u001b[0m\u001b[0m\n",
      "\u001b[0;31mNameError\u001b[0m: name 'List' is not defined"
     ]
    }
   ],
   "source": [
    "#14 find-all-anagram\n",
    "def findAnagrams(self, s: str, p: str) -> List[int]:\n",
    "    ns,np = len(s), len(p)\n",
    "    if ns < np:\n",
    "        return []\n",
    "    p_count = Counter(p)\n",
    "    s_count = Counter(\"\")\n",
    "    \n",
    "    output = []\n",
    "    for i in range(ns):\n",
    "        s_count[s[i]] += 1\n",
    "        if i >= np:\n",
    "            if s_count[s[i-np]] == 1:\n",
    "                del s_count[s[i-np]]\n",
    "            else:\n",
    "                s_count[s[i-np]] -= 1\n",
    "        \n",
    "        if p_count == s_count:\n",
    "            output.append(i-np +1)\n",
    "    return output\n"
   ]
  },
  {
   "cell_type": "code",
   "execution_count": 404,
   "metadata": {},
   "outputs": [
    {
     "data": {
      "text/plain": [
       "[('bipedal', 5),\n",
       " ('quadrupedal', 2),\n",
       " ('NAME', 1),\n",
       " ('STRIDE', 1),\n",
       " ('LENGTH', 1),\n",
       " ('STANCE', 1),\n",
       " ('Euoplocephalus', 1),\n",
       " ('Stegosaurus', 1),\n",
       " ('Tyrannosaurus', 1),\n",
       " ('Rex', 1),\n",
       " ('Hadrosaurus', 1),\n",
       " ('Deinonychus', 1),\n",
       " ('Struthiomimus', 1),\n",
       " ('Velociraptor', 1)]"
      ]
     },
     "execution_count": 404,
     "metadata": {},
     "output_type": "execute_result"
    }
   ],
   "source": [
    "#top k frequent word\n",
    "import re\n",
    "from collections import Counter\n",
    "lines = open('dataset2.csv').read()\n",
    "temp = Counter(re.sub(\"[^A-Za-z']\",\" \",lines).split())\n",
    "\n",
    "a = list(temp.items())\n",
    "a.sort(key = lambda x:x[1], reverse=True)\n",
    "a\n"
   ]
  },
  {
   "cell_type": "code",
   "execution_count": 409,
   "metadata": {},
   "outputs": [
    {
     "name": "stdout",
     "output_type": "stream",
     "text": [
      "Struthiomimus,1.24,bipedal\n",
      "Velociraptor,2.62,bipedal\n"
     ]
    }
   ],
   "source": [
    "#print last nlines from a file\n",
    "print(os.popen(\"tail -2 dataset2.csv\").read())"
   ]
  }
 ],
 "metadata": {
  "kernelspec": {
   "display_name": "Python 3.9.6 64-bit",
   "language": "python",
   "name": "python3"
  },
  "language_info": {
   "codemirror_mode": {
    "name": "ipython",
    "version": 3
   },
   "file_extension": ".py",
   "mimetype": "text/x-python",
   "name": "python",
   "nbconvert_exporter": "python",
   "pygments_lexer": "ipython3",
   "version": "3.9.6"
  },
  "orig_nbformat": 4,
  "vscode": {
   "interpreter": {
    "hash": "397704579725e15f5c7cb49fe5f0341eb7531c82d19f2c29d197e8b64ab5776b"
   }
  }
 },
 "nbformat": 4,
 "nbformat_minor": 2
}
